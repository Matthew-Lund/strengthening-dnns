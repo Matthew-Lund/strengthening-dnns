{
 "cells": [
  {
   "cell_type": "code",
   "execution_count": 5,
   "metadata": {},
   "outputs": [],
   "source": [
    "#Matthew Lund\n",
    "#mtlund@wpi.edu\n",
    "#ECE577 Homework3\n",
    "\n",
    "#imported libs\n",
    "\n",
    "#For grabbing ImageNet Images and picking 10 Random images\n",
    "import os\n",
    "import random\n",
    "\n",
    "#Tensorflow and Keras\n",
    "import tensorflow as tf\n",
    "from tensorflow import keras\n",
    "from keras.applications.resnet50 import ResNet50\n",
    "from keras.preprocessing.image import img_to_array, load_img\n",
    "from keras.applications.resnet50 import preprocess_input\n",
    "\n",
    "#Numpy and Plotting\n",
    "import numpy as np\n",
    "import matplotlib.pyplot as plt\n",
    "#Using Jupyter Notebook\n",
    "%matplotlib inline\n",
    "\n",
    "#Foolbox\n",
    "import foolbox\n",
    "from foolbox.attacks import BlendedUniformNoiseAttack, FGSM, ContrastReductionAttack, SinglePixelAttack, SaliencyMapAttack\n"
   ]
  },
  {
   "cell_type": "code",
   "execution_count": 6,
   "metadata": {
    "scrolled": true
   },
   "outputs": [],
   "source": [
    "model = ResNet50(weights='imagenet', include_top=True)\n",
    "preprocessing = (np.array([103.939, 116.779, 123.68]), 1)\n",
    "fmodel = foolbox.models.KerasModel(model, bounds=(0, 255), \n",
    "                                   preprocessing=preprocessing)"
   ]
  },
  {
   "cell_type": "code",
   "execution_count": 7,
   "metadata": {},
   "outputs": [],
   "source": [
    "#Foolbox attacks used\n",
    "attacks = [BlendedUniformNoiseAttack(fmodel), \n",
    "          ContrastReductionAttack(fmodel), \n",
    "          FGSM(fmodel), \n",
    "          SinglePixelAttack(fmodel), \n",
    "          SaliencyMapAttack(fmodel)]\n"
   ]
  },
  {
   "cell_type": "code",
   "execution_count": 8,
   "metadata": {},
   "outputs": [
    {
     "ename": "ValueError",
     "evalue": "Sample larger than population or is negative",
     "output_type": "error",
     "traceback": [
      "\u001b[1;31m---------------------------------------------------------------------------\u001b[0m",
      "\u001b[1;31mValueError\u001b[0m                                Traceback (most recent call last)",
      "\u001b[1;32m<ipython-input-8-d8bbac151106>\u001b[0m in \u001b[0;36m<module>\u001b[1;34m\u001b[0m\n\u001b[0;32m      6\u001b[0m \u001b[1;33m\u001b[0m\u001b[0m\n\u001b[0;32m      7\u001b[0m \u001b[1;31m# pick 10 images at random\u001b[0m\u001b[1;33m\u001b[0m\u001b[1;33m\u001b[0m\u001b[1;33m\u001b[0m\u001b[0m\n\u001b[1;32m----> 8\u001b[1;33m \u001b[0mselected_images\u001b[0m \u001b[1;33m=\u001b[0m \u001b[0mrandom\u001b[0m\u001b[1;33m.\u001b[0m\u001b[0msample\u001b[0m\u001b[1;33m(\u001b[0m\u001b[0mall_images\u001b[0m\u001b[1;33m,\u001b[0m \u001b[1;36m10\u001b[0m\u001b[1;33m)\u001b[0m\u001b[1;33m\u001b[0m\u001b[1;33m\u001b[0m\u001b[0m\n\u001b[0m\u001b[0;32m      9\u001b[0m \u001b[1;33m\u001b[0m\u001b[0m\n\u001b[0;32m     10\u001b[0m \u001b[1;31m# load the images using keras\u001b[0m\u001b[1;33m\u001b[0m\u001b[1;33m\u001b[0m\u001b[1;33m\u001b[0m\u001b[0m\n",
      "\u001b[1;32m~\\AppData\\Local\\anaconda3\\envs\\strengthening-dnns\\lib\\random.py\u001b[0m in \u001b[0;36msample\u001b[1;34m(self, population, k)\u001b[0m\n\u001b[0;32m    319\u001b[0m         \u001b[0mn\u001b[0m \u001b[1;33m=\u001b[0m \u001b[0mlen\u001b[0m\u001b[1;33m(\u001b[0m\u001b[0mpopulation\u001b[0m\u001b[1;33m)\u001b[0m\u001b[1;33m\u001b[0m\u001b[1;33m\u001b[0m\u001b[0m\n\u001b[0;32m    320\u001b[0m         \u001b[1;32mif\u001b[0m \u001b[1;32mnot\u001b[0m \u001b[1;36m0\u001b[0m \u001b[1;33m<=\u001b[0m \u001b[0mk\u001b[0m \u001b[1;33m<=\u001b[0m \u001b[0mn\u001b[0m\u001b[1;33m:\u001b[0m\u001b[1;33m\u001b[0m\u001b[1;33m\u001b[0m\u001b[0m\n\u001b[1;32m--> 321\u001b[1;33m             \u001b[1;32mraise\u001b[0m \u001b[0mValueError\u001b[0m\u001b[1;33m(\u001b[0m\u001b[1;34m\"Sample larger than population or is negative\"\u001b[0m\u001b[1;33m)\u001b[0m\u001b[1;33m\u001b[0m\u001b[1;33m\u001b[0m\u001b[0m\n\u001b[0m\u001b[0;32m    322\u001b[0m         \u001b[0mresult\u001b[0m \u001b[1;33m=\u001b[0m \u001b[1;33m[\u001b[0m\u001b[1;32mNone\u001b[0m\u001b[1;33m]\u001b[0m \u001b[1;33m*\u001b[0m \u001b[0mk\u001b[0m\u001b[1;33m\u001b[0m\u001b[1;33m\u001b[0m\u001b[0m\n\u001b[0;32m    323\u001b[0m         \u001b[0msetsize\u001b[0m \u001b[1;33m=\u001b[0m \u001b[1;36m21\u001b[0m        \u001b[1;31m# size of a small set minus size of an empty list\u001b[0m\u001b[1;33m\u001b[0m\u001b[1;33m\u001b[0m\u001b[0m\n",
      "\u001b[1;31mValueError\u001b[0m: Sample larger than population or is negative"
     ]
    }
   ],
   "source": [
    "# Path to images folder using ILSVRC2012\n",
    "image_folder_path = './Images'\n",
    "\n",
    "# get a list of all jpeg files in the folder\n",
    "all_images = [f for f in os.listdir(image_folder_path) if f.endswith('.jpeg')]\n",
    "\n",
    "# pick 10 images at random\n",
    "selected_images = random.sample(all_images, 10)\n",
    "\n",
    "# load the images using keras\n",
    "loaded_images = [load_img(os.path.join(image_folder_path, img), target_size=(224, 224)) for img in selected_images]\n",
    "\n",
    "# convert the images to numpy arrays and preprocess them for ResNet50\n",
    "preprocessed_images = [preprocess_input(img_to_array(img)) for img in loaded_images]"
   ]
  },
  {
   "cell_type": "code",
   "execution_count": null,
   "metadata": {},
   "outputs": [],
   "source": [
    "#For Loop for Images\n",
    "for img in preprocessed_images:\n",
    "    # convert the image to a batch of size 1\n",
    "    img_batch = np.expand_dims(img, axis=0)\n",
    "    \n",
    "    # get the label of the image\n",
    "    label = np.argmax(model.predict(img_batch))\n",
    "    \n",
    "    for attack in attacks:\n",
    "        # apply the attack\n",
    "        adversarial = attack(img_batch, label)\n",
    "        \n",
    "        # calculate the noise\n",
    "        noise = adversarial - img_batch\n",
    "        \n",
    "        # get the name of the attack\n",
    "        attack_name = attack.__class__.__name__\n",
    "        \n",
    "        # plot the original, adversarial, and noise images\n",
    "        plt.figure(figsize=(10, 10))\n",
    "        \n",
    "        plt.subplot(1, 3, 1)\n",
    "        plt.imshow(img / 255)  # scale the values to [0, 1] for plotting\n",
    "        plt.title('Original')\n",
    "        \n",
    "        plt.subplot(1, 3, 2)\n",
    "        plt.imshow(adversarial[0] / 255)  # scale the values to [0, 1] for plotting\n",
    "        plt.title(f'Adversarial ({attack_name})')\n",
    "        \n",
    "        plt.subplot(1, 3, 3)\n",
    "        plt.imshow(noise[0] / 255)  # scale the values to [0, 1] for plotting\n",
    "        plt.title('Noise')\n",
    "        \n",
    "        plt.show()"
   ]
  }
 ],
 "metadata": {
  "kernelspec": {
   "display_name": "Python 3",
   "language": "python",
   "name": "python3"
  },
  "language_info": {
   "codemirror_mode": {
    "name": "ipython",
    "version": 3
   },
   "file_extension": ".py",
   "mimetype": "text/x-python",
   "name": "python",
   "nbconvert_exporter": "python",
   "pygments_lexer": "ipython3",
   "version": "3.7.3"
  }
 },
 "nbformat": 4,
 "nbformat_minor": 2
}
