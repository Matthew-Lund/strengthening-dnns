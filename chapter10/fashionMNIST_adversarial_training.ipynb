{
 "cells": [
  {
   "cell_type": "markdown",
   "metadata": {},
   "source": [
    "> Code to accompany **Chapter 10: Defending Against Adversarial Inputs**"
   ]
  },
  {
   "cell_type": "markdown",
   "metadata": {},
   "source": [
    "# Training a Model With Adversarial Data\n",
    "\n",
    "This notebook accompanies the adversarial training evaluation code in \n",
    "[chapter10/FashionMNIST_adversarial_training_evaluation.ipynb](../chapter10/FashionMNIST_adversarial_training_evaluation.ipynb). \n",
    "\n",
    "It augments the Fashion-MNIST training set with adversarial data and uses this broader training set to train a classifier. You can then save the adversarially-trained model for evaluation.\n",
    "\n",
    "An adversarially trained model `fashionMNIST_advtrain_fastgradient.h5`  (using training data generated with the `foolbox.attacks.GradientSignAttack`) is also available in the models folder of this repository if you don't want to do the training yourself. "
   ]
  },
  {
   "cell_type": "markdown",
   "metadata": {},
   "source": [
    "## Import everything that we need"
   ]
  },
  {
   "cell_type": "code",
   "execution_count": 1,
   "metadata": {},
   "outputs": [
    {
     "name": "stdout",
     "output_type": "stream",
     "text": [
      "WARNING:tensorflow:From C:\\Users\\katyw\\Anaconda3\\envs\\strengthening-dnns\\lib\\site-packages\\tensorflow\\python\\ops\\resource_variable_ops.py:435: colocate_with (from tensorflow.python.framework.ops) is deprecated and will be removed in a future version.\n",
      "Instructions for updating:\n",
      "Colocations handled automatically by placer.\n"
     ]
    }
   ],
   "source": [
    "import numpy as np\n",
    "import matplotlib.pyplot as plt\n",
    "\n",
    "import tensorflow as tf\n",
    "from tensorflow import keras\n",
    "model = tf.keras.models.load_model('../models/fashionMNIST.h5')"
   ]
  },
  {
   "cell_type": "markdown",
   "metadata": {},
   "source": [
    "Helper methods for generating adversarial data and plotting images and their adversarial labels. We'll use these later."
   ]
  },
  {
   "cell_type": "code",
   "execution_count": 2,
   "metadata": {},
   "outputs": [],
   "source": [
    "def plot_sample_images(model, images, expected_labels):\n",
    "    predictions = model.predict(images)\n",
    "    plt.figure(figsize=(15, 5))\n",
    "    for i in range(10):\n",
    "        plt.subplot(2,5,i+1)\n",
    "        plt.grid(False)\n",
    "        plt.xticks([])\n",
    "        plt.yticks([])\n",
    "        plt.imshow(images[i], cmap=plt.cm.binary)\n",
    "        predicted_label = np.argmax(predictions[i])\n",
    "        if predicted_label == expected_labels[i]:\n",
    "            color = 'blue'\n",
    "        else:\n",
    "            color = 'red'\n",
    "        \n",
    "        plt.xlabel(\"{} ({})\".format(class_names[predicted_label],\n",
    "                                class_names[expected_labels[i]]),\n",
    "                                color=color)   \n",
    "\n",
    "# Import helper function\n",
    "import sys\n",
    "sys.path.append('..')\n",
    "from strengtheningdnns.adversarial_utils import generate_adversarial_data"
   ]
  },
  {
   "cell_type": "markdown",
   "metadata": {},
   "source": [
    "## Load in the existing (non-adversarially trained) model\n",
    "We'll use this to generate adversarial examples for training"
   ]
  },
  {
   "cell_type": "code",
   "execution_count": 3,
   "metadata": {},
   "outputs": [],
   "source": [
    "fashion_mnist = keras.datasets.fashion_mnist\n",
    "(train_images, train_labels), (test_images, test_labels) = fashion_mnist.load_data()\n",
    "\n",
    "class_names = ['T-shirt/top', 'Trouser', 'Pullover', 'Dress', 'Coat', \n",
    "               'Sandal', 'Shirt', 'Sneaker', 'Bag', 'Ankle boot']\n",
    "train_images = train_images/255.0\n",
    "test_images = test_images/255.0"
   ]
  },
  {
   "cell_type": "code",
   "execution_count": 4,
   "metadata": {},
   "outputs": [
    {
     "name": "stdout",
     "output_type": "stream",
     "text": [
      "10000/10000 [==============================] - 0s 38us/sample - loss: 0.3623 - acc: 0.8704\n",
      "Model accuracy based on test data: 0.8704\n"
     ]
    }
   ],
   "source": [
    "test_loss, test_acc = model.evaluate(test_images, test_labels)\n",
    "print('Model accuracy based on test data:', test_acc)"
   ]
  },
  {
   "cell_type": "markdown",
   "metadata": {},
   "source": [
    "Define the attack. We’ll use a weak attack (the the simple `foolbox.attacks.GradientSignAttack` provided with Foolbox).\n",
    "You can experiment with generating training data using other types of attack."
   ]
  },
  {
   "cell_type": "code",
   "execution_count": 5,
   "metadata": {},
   "outputs": [],
   "source": [
    "import foolbox\n",
    "fmodel = foolbox.models.TensorFlowModel.from_keras(model, bounds=(0, 1))\n",
    "attack_criterion = foolbox.criteria.Misclassification()\n",
    "attack_fn = foolbox.attacks.GradientSignAttack(fmodel, criterion=attack_criterion, distance=foolbox.distances.Linfinity)\n",
    "#attack_fn = foolbox.attacks.SaliencyMapAttack(fmodel, criterion=attack_criterion, distance=foolbox.distances.L0)"
   ]
  },
  {
   "cell_type": "markdown",
   "metadata": {},
   "source": [
    "## Generate some adversarial training data\n",
    "Select the images to use to create the adversarial ones.\n",
    "\n",
    "There are 60,000 training images, that's 6,000 per class. \n",
    "We'll create an additional 6,000 adversarial training images.\n"
   ]
  },
  {
   "cell_type": "code",
   "execution_count": 6,
   "metadata": {},
   "outputs": [
    {
     "name": "stderr",
     "output_type": "stream",
     "text": [
      "C:\\Users\\katyw\\Anaconda3\\envs\\strengthening-dnns\\lib\\site-packages\\foolbox\\attacks\\base.py:148: UserWarning: GradientSignAttack did not find an adversarial, maybe the model or the criterion is not supported by this attack.\n",
      "  ' attack.'.format(self.name()))\n"
     ]
    },
    {
     "name": "stdout",
     "output_type": "stream",
     "text": [
      "Warning: Unable to find adversarial example for image at index:  88\n",
      "Warning: Unable to find adversarial example for image at index:  298\n",
      "Warning: Unable to find adversarial example for image at index:  335\n",
      "Warning: Unable to find adversarial example for image at index:  498\n",
      "Warning: Unable to find adversarial example for image at index:  695\n",
      "Warning: Unable to find adversarial example for image at index:  736\n",
      "Warning: Unable to find adversarial example for image at index:  1381\n",
      "Warning: Unable to find adversarial example for image at index:  1488\n",
      "Warning: Unable to find adversarial example for image at index:  1659\n",
      "Warning: Unable to find adversarial example for image at index:  1875\n",
      "Warning: Unable to find adversarial example for image at index:  2221\n",
      "Warning: Unable to find adversarial example for image at index:  2314\n",
      "Warning: Unable to find adversarial example for image at index:  2947\n",
      "Warning: Unable to find adversarial example for image at index:  2974\n",
      "Warning: Unable to find adversarial example for image at index:  5704\n",
      "Warning: Unable to find adversarial example for image at index:  5921\n"
     ]
    }
   ],
   "source": [
    "\n",
    "x_images = train_images[0:6000, :]\n",
    "(x_train_adv_images, x_train_adv_perturbs, x_train_labels) = generate_adversarial_data(original_images = x_images, \n",
    "                                                                                  predictions = model.predict(x_images), \n",
    "                                                                                  attack_fn = attack_fn)"
   ]
  },
  {
   "cell_type": "markdown",
   "metadata": {},
   "source": [
    "## Add the adversarial training data to the existing training data\n",
    "\n",
    "The adversarial data instances are each allocated their correct (non-adversarial) label for training."
   ]
  },
  {
   "cell_type": "code",
   "execution_count": 7,
   "metadata": {},
   "outputs": [],
   "source": [
    "train_images_plus_adv = np.concatenate((train_images, x_train_adv_images), axis=0)\n",
    "train_labels_plus_adv = np.concatenate((train_labels, x_train_labels), axis=0)"
   ]
  },
  {
   "cell_type": "markdown",
   "metadata": {},
   "source": [
    "## Retrain the model\n",
    "\n",
    "Retrain using the augmented data."
   ]
  },
  {
   "cell_type": "code",
   "execution_count": 8,
   "metadata": {},
   "outputs": [
    {
     "name": "stdout",
     "output_type": "stream",
     "text": [
      "Epoch 1/6\n",
      "65984/65984 [==============================] - 5s 69us/sample - loss: 0.5231 - acc: 0.8154\n",
      "Epoch 2/6\n",
      "65984/65984 [==============================] - 5s 68us/sample - loss: 0.3874 - acc: 0.8588\n",
      "Epoch 3/6\n",
      "65984/65984 [==============================] - 5s 70us/sample - loss: 0.3503 - acc: 0.8718\n",
      "Epoch 4/6\n",
      "65984/65984 [==============================] - 4s 66us/sample - loss: 0.3249 - acc: 0.8812\n",
      "Epoch 5/6\n",
      "65984/65984 [==============================] - 4s 66us/sample - loss: 0.3100 - acc: 0.8869\n",
      "Epoch 6/6\n",
      "65984/65984 [==============================] - 4s 65us/sample - loss: 0.2950 - acc: 0.8921\n"
     ]
    },
    {
     "data": {
      "text/plain": [
       "<tensorflow.python.keras.callbacks.History at 0x180cd7d2cc0>"
      ]
     },
     "execution_count": 8,
     "metadata": {},
     "output_type": "execute_result"
    }
   ],
   "source": [
    "class_names = ['T-shirt/top', 'Trouser', 'Pullover', 'Dress', 'Coat', \n",
    "               'Sandal', 'Shirt', 'Sneaker', 'Bag', 'Ankle boot']\n",
    "\n",
    "model_adv = keras.Sequential([keras.layers.Flatten(input_shape=(28,28)),\n",
    "                          keras.layers.Dense(56, activation='relu'),\n",
    "                          keras.layers.Dense(56, activation='relu'),\n",
    "                          keras.layers.Dense(10, activation='softmax', name='predictions_layer')\n",
    "                         ])\n",
    "model_adv.compile(optimizer=tf.keras.optimizers.Adam(),\n",
    "              loss='sparse_categorical_crossentropy',\n",
    "              metrics=['accuracy'])\n",
    "\n",
    "model_adv.fit(train_images_plus_adv, train_labels_plus_adv, epochs=6)\n",
    "\n"
   ]
  },
  {
   "cell_type": "code",
   "execution_count": 9,
   "metadata": {},
   "outputs": [
    {
     "name": "stdout",
     "output_type": "stream",
     "text": [
      "10000/10000 [==============================] - 0s 34us/sample - loss: 0.3623 - acc: 0.8704\n",
      "Original model accuracy based on non-adversarial test data: 0.8704\n",
      "10000/10000 [==============================] - 0s 49us/sample - loss: 0.3564 - acc: 0.8784\n",
      "Adversarially trained model accuracy based on non-adversarial test data: 0.8784\n"
     ]
    }
   ],
   "source": [
    "test_loss, test_acc = model.evaluate(test_images, test_labels)\n",
    "print('Original model accuracy based on non-adversarial test data:', test_acc)\n",
    "test_loss, test_acc = model_adv.evaluate(test_images, test_labels)\n",
    "print('Adversarially trained model accuracy based on non-adversarial test data:', test_acc)"
   ]
  },
  {
   "cell_type": "markdown",
   "metadata": {},
   "source": [
    "## Compare the initial model to the adversarially trained model"
   ]
  },
  {
   "cell_type": "code",
   "execution_count": 10,
   "metadata": {},
   "outputs": [],
   "source": [
    "x_images = test_images[0:10, :]\n",
    "(x_test_adv_images, x_test_adv_perturbs, x_test_labels) = generate_adversarial_data(original_images = x_images, \n",
    "                                                                                    predictions = model.predict(x_images), \n",
    "                                                                                    attack_fn = attack_fn)"
   ]
  },
  {
   "cell_type": "markdown",
   "metadata": {},
   "source": [
    "Here's a plot of the first 10 test images and their predictions using the initial model."
   ]
  },
  {
   "cell_type": "code",
   "execution_count": 11,
   "metadata": {},
   "outputs": [
    {
     "data": {
      "image/png": "[encoded data removed]",
      "text/plain": [
       "<Figure size 1080x360 with 10 Axes>"
      ]
     },
     "metadata": {},
     "output_type": "display_data"
    }
   ],
   "source": [
    "plot_sample_images(model, x_test_adv_images, x_test_labels)"
   ]
  },
  {
   "cell_type": "markdown",
   "metadata": {},
   "source": [
    "Now here's a plot of the first 10 images and their predictions using the adversarially trained model.\n",
    "\n"
   ]
  },
  {
   "cell_type": "code",
   "execution_count": 12,
   "metadata": {},
   "outputs": [
    {
     "data": {
      "image/png": "[encoded data removed]",
      "text/plain": [
       "<Figure size 1080x360 with 10 Axes>"
      ]
     },
     "metadata": {},
     "output_type": "display_data"
    }
   ],
   "source": [
    "plot_sample_images(model_adv, x_test_adv_images, x_test_labels)"
   ]
  },
  {
   "cell_type": "markdown",
   "metadata": {},
   "source": [
    "This looks good as the new model is not fooled. \n",
    "\n",
    "Unfortunately, this is a poor evaluation. \n",
    "Firstly, we’ve only tested the model’s robustness to a specific attack. \n",
    "Secondly, for a proper evaluation, we need to assume that the attacker has complete knowledge of the model and its defenses. An attacker with complete knowledge is able to generate their adversarial data directly against the adversarially trained model, so this is the scenario that needs to be evaluated. This is examined in [chapter10/FashionMNIST_adversarial_training_evaluation.ipynb](../chapter10/FashionMNIST_adversarial_training_evaluation.ipynb)."
   ]
  },
  {
   "cell_type": "markdown",
   "metadata": {},
   "source": [
    "## Save the model if you wish to evaluate later"
   ]
  },
  {
   "cell_type": "code",
   "execution_count": 17,
   "metadata": {},
   "outputs": [],
   "source": [
    "#model_adv.save('../models/fashionMNIST_advtrain.h5')"
   ]
  },
  {
   "cell_type": "markdown",
   "metadata": {},
   "source": [
    "## Where next?\n",
    "\n",
    "Head to \n",
    "[chapter10/FashionMNIST_adversarial_training_evaluation.ipynb](../chapter10/FashionMNIST_adversarial_training_evaluation.ipynb) to evaluate the model."
   ]
  },
  {
   "cell_type": "code",
   "execution_count": null,
   "metadata": {},
   "outputs": [],
   "source": []
  }
 ],
 "metadata": {
  "kernelspec": {
   "display_name": "Python (strengthening-dnns)",
   "language": "python",
   "name": "strengthening-dnns"
  },
  "language_info": {
   "codemirror_mode": {
    "name": "ipython",
    "version": 3
   },
   "file_extension": ".py",
   "mimetype": "text/x-python",
   "name": "python",
   "nbconvert_exporter": "python",
   "pygments_lexer": "ipython3",
   "version": "3.7.3"
  }
 },
 "nbformat": 4,
 "nbformat_minor": 2
}
